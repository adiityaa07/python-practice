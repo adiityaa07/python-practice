{
 "cells": [
  {
   "cell_type": "code",
   "execution_count": 1,
   "id": "7a405570-406f-4d56-985c-3f3426b97577",
   "metadata": {},
   "outputs": [
    {
     "name": "stdout",
     "output_type": "stream",
     "text": [
      "Aditya Yadav\n"
     ]
    }
   ],
   "source": [
    "print(\"Aditya Yadav\")"
   ]
  },
  {
   "cell_type": "code",
   "execution_count": 2,
   "id": "fc46abdc-4f4b-411f-8dbb-295813ed584b",
   "metadata": {},
   "outputs": [
    {
     "name": "stdout",
     "output_type": "stream",
     "text": [
      "18\n"
     ]
    }
   ],
   "source": [
    "age = 18\n",
    "print(age)"
   ]
  },
  {
   "cell_type": "code",
   "execution_count": 4,
   "id": "1ec16cb0-f550-4762-993f-f440facf4aa0",
   "metadata": {},
   "outputs": [
    {
     "name": "stdout",
     "output_type": "stream",
     "text": [
      "sum is: 60\n"
     ]
    }
   ],
   "source": [
    "num1 = 12\n",
    "num2 = 48\n",
    "result = num1 + num2\n",
    "print(\"sum is:\",result)"
   ]
  },
  {
   "cell_type": "code",
   "execution_count": 5,
   "id": "33d5ecb5-f4a1-4aa2-8d01-7ecb6543883b",
   "metadata": {},
   "outputs": [
    {
     "name": "stdout",
     "output_type": "stream",
     "text": [
      "<class 'str'>\n",
      "<class 'int'>\n"
     ]
    }
   ],
   "source": [
    "a = \"CSBS\"\n",
    "b = 18\n",
    "print(type(a))\n",
    "print(type(b))"
   ]
  },
  {
   "cell_type": "code",
   "execution_count": 6,
   "id": "f85ebff7-a089-45fa-a000-831baae3016b",
   "metadata": {},
   "outputs": [
    {
     "name": "stdout",
     "output_type": "stream",
     "text": [
      "i am a good boy\n"
     ]
    }
   ],
   "source": [
    "print(\"i am a good boy\")"
   ]
  },
  {
   "cell_type": "code",
   "execution_count": 7,
   "id": "ae2013a9-3dee-4bfb-8bdf-4d32e2e045fb",
   "metadata": {},
   "outputs": [
    {
     "name": "stdout",
     "output_type": "stream",
     "text": [
      "i am a good boy\n",
      " and this viwer is also a good boy/girl\n"
     ]
    }
   ],
   "source": [
    "print(\"i am a good boy\\n and this viwer is also a good boy/girl\" )"
   ]
  },
  {
   "cell_type": "code",
   "execution_count": 13,
   "id": "986d9128-71e1-45fa-bb55-879128185cbe",
   "metadata": {},
   "outputs": [
    {
     "name": "stdout",
     "output_type": "stream",
     "text": [
      "hello,\n",
      "Aditya\t😊\n"
     ]
    }
   ],
   "source": [
    "print(\"hello,\\nAditya\\t😊\")"
   ]
  },
  {
   "cell_type": "code",
   "execution_count": 14,
   "id": "675a6611-0978-4e8b-ab72-cdeb019ad494",
   "metadata": {},
   "outputs": [
    {
     "name": "stdout",
     "output_type": "stream",
     "text": [
      "he said,\"i will do it!\"\n"
     ]
    }
   ],
   "source": [
    "print(\"he said,\\\"i will do it!\\\"\")"
   ]
  },
  {
   "cell_type": "code",
   "execution_count": 17,
   "id": "9bfb7de2-4ba9-4032-90f5-f127db7de740",
   "metadata": {},
   "outputs": [
    {
     "name": "stdout",
     "output_type": "stream",
     "text": [
      "this is a backslash:\\\n"
     ]
    }
   ],
   "source": [
    "print(\"this is a backslash:\\\\\")"
   ]
  },
  {
   "cell_type": "code",
   "execution_count": null,
   "id": "f8525030-6fd7-41fb-8350-4919f39d98d4",
   "metadata": {},
   "outputs": [],
   "source": []
  }
 ],
 "metadata": {
  "kernelspec": {
   "display_name": "Python 3 (ipykernel)",
   "language": "python",
   "name": "python3"
  },
  "language_info": {
   "codemirror_mode": {
    "name": "ipython",
    "version": 3
   },
   "file_extension": ".py",
   "mimetype": "text/x-python",
   "name": "python",
   "nbconvert_exporter": "python",
   "pygments_lexer": "ipython3",
   "version": "3.13.5"
  }
 },
 "nbformat": 4,
 "nbformat_minor": 5
}
